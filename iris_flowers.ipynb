{
 "cells": [
  {
   "cell_type": "code",
   "execution_count": 13,
   "metadata": {
    "collapsed": false
   },
   "outputs": [
    {
     "name": "stdout",
     "output_type": "stream",
     "text": [
      "     sepal length in cm  sepal width in cm  petal length in cm  \\\n",
      "0                   5.1                3.5                 1.4   \n",
      "1                   4.9                3.0                 1.4   \n",
      "2                   4.7                3.2                 1.3   \n",
      "3                   4.6                3.1                 1.5   \n",
      "4                   5.0                3.6                 1.4   \n",
      "5                   5.4                3.9                 1.7   \n",
      "6                   4.6                3.4                 1.4   \n",
      "7                   5.0                3.4                 1.5   \n",
      "8                   4.4                2.9                 1.4   \n",
      "9                   4.9                3.1                 1.5   \n",
      "10                  5.4                3.7                 1.5   \n",
      "11                  4.8                3.4                 1.6   \n",
      "12                  4.8                3.0                 1.4   \n",
      "13                  4.3                3.0                 1.1   \n",
      "14                  5.8                4.0                 1.2   \n",
      "15                  5.7                4.4                 1.5   \n",
      "16                  5.4                3.9                 1.3   \n",
      "17                  5.1                3.5                 1.4   \n",
      "18                  5.7                3.8                 1.7   \n",
      "19                  5.1                3.8                 1.5   \n",
      "20                  5.4                3.4                 1.7   \n",
      "21                  5.1                3.7                 1.5   \n",
      "22                  4.6                3.6                 1.0   \n",
      "23                  5.1                3.3                 1.7   \n",
      "24                  4.8                3.4                 1.9   \n",
      "25                  5.0                3.0                 1.6   \n",
      "26                  5.0                3.4                 1.6   \n",
      "27                  5.2                3.5                 1.5   \n",
      "28                  5.2                3.4                 1.4   \n",
      "29                  4.7                3.2                 1.6   \n",
      "..                  ...                ...                 ...   \n",
      "120                 6.9                3.2                 5.7   \n",
      "121                 5.6                2.8                 4.9   \n",
      "122                 7.7                2.8                 6.7   \n",
      "123                 6.3                2.7                 4.9   \n",
      "124                 6.7                3.3                 5.7   \n",
      "125                 7.2                3.2                 6.0   \n",
      "126                 6.2                2.8                 4.8   \n",
      "127                 6.1                3.0                 4.9   \n",
      "128                 6.4                2.8                 5.6   \n",
      "129                 7.2                3.0                 5.8   \n",
      "130                 7.4                2.8                 6.1   \n",
      "131                 7.9                3.8                 6.4   \n",
      "132                 6.4                2.8                 5.6   \n",
      "133                 6.3                2.8                 5.1   \n",
      "134                 6.1                2.6                 5.6   \n",
      "135                 7.7                3.0                 6.1   \n",
      "136                 6.3                3.4                 5.6   \n",
      "137                 6.4                3.1                 5.5   \n",
      "138                 6.0                3.0                 4.8   \n",
      "139                 6.9                3.1                 5.4   \n",
      "140                 6.7                3.1                 5.6   \n",
      "141                 6.9                3.1                 5.1   \n",
      "142                 5.8                2.7                 5.1   \n",
      "143                 6.8                3.2                 5.9   \n",
      "144                 6.7                3.3                 5.7   \n",
      "145                 6.7                3.0                 5.2   \n",
      "146                 6.3                2.5                 5.0   \n",
      "147                 6.5                3.0                 5.2   \n",
      "148                 6.2                3.4                 5.4   \n",
      "149                 5.9                3.0                 5.1   \n",
      "\n",
      "     petal width in cm           class  \n",
      "0                  0.2     Iris-setosa  \n",
      "1                  0.2     Iris-setosa  \n",
      "2                  0.2     Iris-setosa  \n",
      "3                  0.2     Iris-setosa  \n",
      "4                  0.2     Iris-setosa  \n",
      "5                  0.4     Iris-setosa  \n",
      "6                  0.3     Iris-setosa  \n",
      "7                  0.2     Iris-setosa  \n",
      "8                  0.2     Iris-setosa  \n",
      "9                  0.1     Iris-setosa  \n",
      "10                 0.2     Iris-setosa  \n",
      "11                 0.2     Iris-setosa  \n",
      "12                 0.1     Iris-setosa  \n",
      "13                 0.1     Iris-setosa  \n",
      "14                 0.2     Iris-setosa  \n",
      "15                 0.4     Iris-setosa  \n",
      "16                 0.4     Iris-setosa  \n",
      "17                 0.3     Iris-setosa  \n",
      "18                 0.3     Iris-setosa  \n",
      "19                 0.3     Iris-setosa  \n",
      "20                 0.2     Iris-setosa  \n",
      "21                 0.4     Iris-setosa  \n",
      "22                 0.2     Iris-setosa  \n",
      "23                 0.5     Iris-setosa  \n",
      "24                 0.2     Iris-setosa  \n",
      "25                 0.2     Iris-setosa  \n",
      "26                 0.4     Iris-setosa  \n",
      "27                 0.2     Iris-setosa  \n",
      "28                 0.2     Iris-setosa  \n",
      "29                 0.2     Iris-setosa  \n",
      "..                 ...             ...  \n",
      "120                2.3  Iris-virginica  \n",
      "121                2.0  Iris-virginica  \n",
      "122                2.0  Iris-virginica  \n",
      "123                1.8  Iris-virginica  \n",
      "124                2.1  Iris-virginica  \n",
      "125                1.8  Iris-virginica  \n",
      "126                1.8  Iris-virginica  \n",
      "127                1.8  Iris-virginica  \n",
      "128                2.1  Iris-virginica  \n",
      "129                1.6  Iris-virginica  \n",
      "130                1.9  Iris-virginica  \n",
      "131                2.0  Iris-virginica  \n",
      "132                2.2  Iris-virginica  \n",
      "133                1.5  Iris-virginica  \n",
      "134                1.4  Iris-virginica  \n",
      "135                2.3  Iris-virginica  \n",
      "136                2.4  Iris-virginica  \n",
      "137                1.8  Iris-virginica  \n",
      "138                1.8  Iris-virginica  \n",
      "139                2.1  Iris-virginica  \n",
      "140                2.4  Iris-virginica  \n",
      "141                2.3  Iris-virginica  \n",
      "142                1.9  Iris-virginica  \n",
      "143                2.3  Iris-virginica  \n",
      "144                2.5  Iris-virginica  \n",
      "145                2.3  Iris-virginica  \n",
      "146                1.9  Iris-virginica  \n",
      "147                2.0  Iris-virginica  \n",
      "148                2.3  Iris-virginica  \n",
      "149                1.8  Iris-virginica  \n",
      "\n",
      "[150 rows x 5 columns]\n"
     ]
    }
   ],
   "source": [
    "%matplotlib inline\n",
    "import pandas\n",
    "from pandas.plotting import scatter_matrix \n",
    "from sklearn.linear_model import LogisticRegression\n",
    "import matplotlib.pyplot as plt\n",
    "#data.column = ['sepal length in cm','sepal width in cm','petal length in cm','petal width in cm', 'class']\n",
    "data = pandas.read_csv(\"C:/Users/Ank/Anaconda3/data/iris.data\", names=['sepal length in cm','sepal width in cm','petal length in cm','petal width in cm','class'])\n",
    "print(data)"
   ]
  },
  {
   "cell_type": "code",
   "execution_count": 18,
   "metadata": {
    "collapsed": false
   },
   "outputs": [
    {
     "data": {
      "text/plain": [
       "sepal length in cm    0\n",
       "sepal width in cm     0\n",
       "petal length in cm    0\n",
       "petal width in cm     0\n",
       "class                 0\n",
       "dtype: int64"
      ]
     },
     "execution_count": 18,
     "metadata": {},
     "output_type": "execute_result"
    }
   ],
   "source": [
    "pandas.isnull(data).sum()"
   ]
  },
  {
   "cell_type": "code",
   "execution_count": 3,
   "metadata": {
    "collapsed": false
   },
   "outputs": [
    {
     "name": "stdout",
     "output_type": "stream",
     "text": [
      "       sepal length in cm  sepal width in cm  petal length in cm  \\\n",
      "count          150.000000         150.000000          150.000000   \n",
      "mean             5.843333           3.054000            3.758667   \n",
      "std              0.828066           0.433594            1.764420   \n",
      "min              4.300000           2.000000            1.000000   \n",
      "25%              5.100000           2.800000            1.600000   \n",
      "50%              5.800000           3.000000            4.350000   \n",
      "75%              6.400000           3.300000            5.100000   \n",
      "max              7.900000           4.400000            6.900000   \n",
      "\n",
      "       petal width in cm  \n",
      "count         150.000000  \n",
      "mean            1.198667  \n",
      "std             0.763161  \n",
      "min             0.100000  \n",
      "25%             0.300000  \n",
      "50%             1.300000  \n",
      "75%             1.800000  \n",
      "max             2.500000  \n"
     ]
    },
    {
     "data": {
      "text/html": [
       "<div>\n",
       "<style>\n",
       "    .dataframe thead tr:only-child th {\n",
       "        text-align: right;\n",
       "    }\n",
       "\n",
       "    .dataframe thead th {\n",
       "        text-align: left;\n",
       "    }\n",
       "\n",
       "    .dataframe tbody tr th {\n",
       "        vertical-align: top;\n",
       "    }\n",
       "</style>\n",
       "<table border=\"1\" class=\"dataframe\">\n",
       "  <thead>\n",
       "    <tr style=\"text-align: right;\">\n",
       "      <th></th>\n",
       "      <th>sepal length in cm</th>\n",
       "      <th>sepal width in cm</th>\n",
       "      <th>petal length in cm</th>\n",
       "      <th>petal width in cm</th>\n",
       "    </tr>\n",
       "  </thead>\n",
       "  <tbody>\n",
       "    <tr>\n",
       "      <th>sepal length in cm</th>\n",
       "      <td>1.000000</td>\n",
       "      <td>-0.109369</td>\n",
       "      <td>0.871754</td>\n",
       "      <td>0.817954</td>\n",
       "    </tr>\n",
       "    <tr>\n",
       "      <th>sepal width in cm</th>\n",
       "      <td>-0.109369</td>\n",
       "      <td>1.000000</td>\n",
       "      <td>-0.420516</td>\n",
       "      <td>-0.356544</td>\n",
       "    </tr>\n",
       "    <tr>\n",
       "      <th>petal length in cm</th>\n",
       "      <td>0.871754</td>\n",
       "      <td>-0.420516</td>\n",
       "      <td>1.000000</td>\n",
       "      <td>0.962757</td>\n",
       "    </tr>\n",
       "    <tr>\n",
       "      <th>petal width in cm</th>\n",
       "      <td>0.817954</td>\n",
       "      <td>-0.356544</td>\n",
       "      <td>0.962757</td>\n",
       "      <td>1.000000</td>\n",
       "    </tr>\n",
       "  </tbody>\n",
       "</table>\n",
       "</div>"
      ],
      "text/plain": [
       "                    sepal length in cm  sepal width in cm  petal length in cm  \\\n",
       "sepal length in cm            1.000000          -0.109369            0.871754   \n",
       "sepal width in cm            -0.109369           1.000000           -0.420516   \n",
       "petal length in cm            0.871754          -0.420516            1.000000   \n",
       "petal width in cm             0.817954          -0.356544            0.962757   \n",
       "\n",
       "                    petal width in cm  \n",
       "sepal length in cm           0.817954  \n",
       "sepal width in cm           -0.356544  \n",
       "petal length in cm           0.962757  \n",
       "petal width in cm            1.000000  "
      ]
     },
     "execution_count": 3,
     "metadata": {},
     "output_type": "execute_result"
    }
   ],
   "source": [
    "print(data.describe())\n",
    "data.corr()"
   ]
  },
  {
   "cell_type": "code",
   "execution_count": 4,
   "metadata": {
    "collapsed": false
   },
   "outputs": [
    {
     "data": {
      "text/plain": [
       "sepal length in cm       Axes(0.125,0.536818;0.352273x0.343182)\n",
       "sepal width in cm     Axes(0.547727,0.536818;0.352273x0.343182)\n",
       "petal length in cm          Axes(0.125,0.125;0.352273x0.343182)\n",
       "petal width in cm        Axes(0.547727,0.125;0.352273x0.343182)\n",
       "dtype: object"
      ]
     },
     "execution_count": 4,
     "metadata": {},
     "output_type": "execute_result"
    },
    {
     "data": {
      "image/png": "[encoded data removed]",
      "text/plain": [
       "<matplotlib.figure.Figure at 0x1dcbb8ec5c0>"
      ]
     },
     "metadata": {},
     "output_type": "display_data"
    }
   ],
   "source": [
    "data.plot(kind='box',subplots=True, layout=(2,2))"
   ]
  },
  {
   "cell_type": "code",
   "execution_count": 11,
   "metadata": {
    "collapsed": false
   },
   "outputs": [
    {
     "data": {
      "text/plain": [
       "array([[<matplotlib.axes._subplots.AxesSubplot object at 0x000001DCBD7C2898>,\n",
       "        <matplotlib.axes._subplots.AxesSubplot object at 0x000001DCBD969470>],\n",
       "       [<matplotlib.axes._subplots.AxesSubplot object at 0x000001DCBD9D0978>,\n",
       "        <matplotlib.axes._subplots.AxesSubplot object at 0x000001DCBDA29208>]], dtype=object)"
      ]
     },
     "execution_count": 11,
     "metadata": {},
     "output_type": "execute_result"
    },
    {
     "data": {
      "image/png": "[encoded data removed]",
      "text/plain": [
       "<matplotlib.figure.Figure at 0x1dcbd7f9518>"
      ]
     },
     "metadata": {},
     "output_type": "display_data"
    }
   ],
   "source": [
    "data.hist()"
   ]
  },
  {
   "cell_type": "code",
   "execution_count": 12,
   "metadata": {
    "collapsed": false
   },
   "outputs": [
    {
     "data": {
      "text/plain": [
       "array([[<matplotlib.axes._subplots.AxesSubplot object at 0x000001DCBDA99BE0>,\n",
       "        <matplotlib.axes._subplots.AxesSubplot object at 0x000001DCBDBC2748>,\n",
       "        <matplotlib.axes._subplots.AxesSubplot object at 0x000001DCBDC2AA58>,\n",
       "        <matplotlib.axes._subplots.AxesSubplot object at 0x000001DCBDC812B0>],\n",
       "       [<matplotlib.axes._subplots.AxesSubplot object at 0x000001DCBDCEA588>,\n",
       "        <matplotlib.axes._subplots.AxesSubplot object at 0x000001DCBDCEA5C0>,\n",
       "        <matplotlib.axes._subplots.AxesSubplot object at 0x000001DCBDDAC128>,\n",
       "        <matplotlib.axes._subplots.AxesSubplot object at 0x000001DCBDDFFEF0>],\n",
       "       [<matplotlib.axes._subplots.AxesSubplot object at 0x000001DCBDE6D080>,\n",
       "        <matplotlib.axes._subplots.AxesSubplot object at 0x000001DCBDEBFD30>,\n",
       "        <matplotlib.axes._subplots.AxesSubplot object at 0x000001DCBDF30198>,\n",
       "        <matplotlib.axes._subplots.AxesSubplot object at 0x000001DCBDF7DB70>],\n",
       "       [<matplotlib.axes._subplots.AxesSubplot object at 0x000001DCBDFEE198>,\n",
       "        <matplotlib.axes._subplots.AxesSubplot object at 0x000001DCBE00D080>,\n",
       "        <matplotlib.axes._subplots.AxesSubplot object at 0x000001DCBE0A8EB8>,\n",
       "        <matplotlib.axes._subplots.AxesSubplot object at 0x000001DCBE119208>]], dtype=object)"
      ]
     },
     "execution_count": 12,
     "metadata": {},
     "output_type": "execute_result"
    },
    {
     "data": {
      "image/png": "[encoded data removed]",
      "text/plain": [
       "<matplotlib.figure.Figure at 0x1dcbdb0af98>"
      ]
     },
     "metadata": {},
     "output_type": "display_data"
    }
   ],
   "source": [
    "scatter_matrix(data)"
   ]
  },
  {
   "cell_type": "code",
   "execution_count": 20,
   "metadata": {
    "collapsed": false
   },
   "outputs": [
    {
     "name": "stdout",
     "output_type": "stream",
     "text": [
      "[[5.1 3.5 1.4 0.2 'Iris-setosa']\n",
      " [4.9 3.0 1.4 0.2 'Iris-setosa']\n",
      " [4.7 3.2 1.3 0.2 'Iris-setosa']\n",
      " [4.6 3.1 1.5 0.2 'Iris-setosa']\n",
      " [5.0 3.6 1.4 0.2 'Iris-setosa']\n",
      " [5.4 3.9 1.7 0.4 'Iris-setosa']\n",
      " [4.6 3.4 1.4 0.3 'Iris-setosa']\n",
      " [5.0 3.4 1.5 0.2 'Iris-setosa']\n",
      " [4.4 2.9 1.4 0.2 'Iris-setosa']\n",
      " [4.9 3.1 1.5 0.1 'Iris-setosa']\n",
      " [5.4 3.7 1.5 0.2 'Iris-setosa']\n",
      " [4.8 3.4 1.6 0.2 'Iris-setosa']\n",
      " [4.8 3.0 1.4 0.1 'Iris-setosa']\n",
      " [4.3 3.0 1.1 0.1 'Iris-setosa']\n",
      " [5.8 4.0 1.2 0.2 'Iris-setosa']\n",
      " [5.7 4.4 1.5 0.4 'Iris-setosa']\n",
      " [5.4 3.9 1.3 0.4 'Iris-setosa']\n",
      " [5.1 3.5 1.4 0.3 'Iris-setosa']\n",
      " [5.7 3.8 1.7 0.3 'Iris-setosa']\n",
      " [5.1 3.8 1.5 0.3 'Iris-setosa']\n",
      " [5.4 3.4 1.7 0.2 'Iris-setosa']\n",
      " [5.1 3.7 1.5 0.4 'Iris-setosa']\n",
      " [4.6 3.6 1.0 0.2 'Iris-setosa']\n",
      " [5.1 3.3 1.7 0.5 'Iris-setosa']\n",
      " [4.8 3.4 1.9 0.2 'Iris-setosa']\n",
      " [5.0 3.0 1.6 0.2 'Iris-setosa']\n",
      " [5.0 3.4 1.6 0.4 'Iris-setosa']\n",
      " [5.2 3.5 1.5 0.2 'Iris-setosa']\n",
      " [5.2 3.4 1.4 0.2 'Iris-setosa']\n",
      " [4.7 3.2 1.6 0.2 'Iris-setosa']\n",
      " [4.8 3.1 1.6 0.2 'Iris-setosa']\n",
      " [5.4 3.4 1.5 0.4 'Iris-setosa']\n",
      " [5.2 4.1 1.5 0.1 'Iris-setosa']\n",
      " [5.5 4.2 1.4 0.2 'Iris-setosa']\n",
      " [4.9 3.1 1.5 0.1 'Iris-setosa']\n",
      " [5.0 3.2 1.2 0.2 'Iris-setosa']\n",
      " [5.5 3.5 1.3 0.2 'Iris-setosa']\n",
      " [4.9 3.1 1.5 0.1 'Iris-setosa']\n",
      " [4.4 3.0 1.3 0.2 'Iris-setosa']\n",
      " [5.1 3.4 1.5 0.2 'Iris-setosa']\n",
      " [5.0 3.5 1.3 0.3 'Iris-setosa']\n",
      " [4.5 2.3 1.3 0.3 'Iris-setosa']\n",
      " [4.4 3.2 1.3 0.2 'Iris-setosa']\n",
      " [5.0 3.5 1.6 0.6 'Iris-setosa']\n",
      " [5.1 3.8 1.9 0.4 'Iris-setosa']\n",
      " [4.8 3.0 1.4 0.3 'Iris-setosa']\n",
      " [5.1 3.8 1.6 0.2 'Iris-setosa']\n",
      " [4.6 3.2 1.4 0.2 'Iris-setosa']\n",
      " [5.3 3.7 1.5 0.2 'Iris-setosa']\n",
      " [5.0 3.3 1.4 0.2 'Iris-setosa']\n",
      " [7.0 3.2 4.7 1.4 'Iris-versicolor']\n",
      " [6.4 3.2 4.5 1.5 'Iris-versicolor']\n",
      " [6.9 3.1 4.9 1.5 'Iris-versicolor']\n",
      " [5.5 2.3 4.0 1.3 'Iris-versicolor']\n",
      " [6.5 2.8 4.6 1.5 'Iris-versicolor']\n",
      " [5.7 2.8 4.5 1.3 'Iris-versicolor']\n",
      " [6.3 3.3 4.7 1.6 'Iris-versicolor']\n",
      " [4.9 2.4 3.3 1.0 'Iris-versicolor']\n",
      " [6.6 2.9 4.6 1.3 'Iris-versicolor']\n",
      " [5.2 2.7 3.9 1.4 'Iris-versicolor']\n",
      " [5.0 2.0 3.5 1.0 'Iris-versicolor']\n",
      " [5.9 3.0 4.2 1.5 'Iris-versicolor']\n",
      " [6.0 2.2 4.0 1.0 'Iris-versicolor']\n",
      " [6.1 2.9 4.7 1.4 'Iris-versicolor']\n",
      " [5.6 2.9 3.6 1.3 'Iris-versicolor']\n",
      " [6.7 3.1 4.4 1.4 'Iris-versicolor']\n",
      " [5.6 3.0 4.5 1.5 'Iris-versicolor']\n",
      " [5.8 2.7 4.1 1.0 'Iris-versicolor']\n",
      " [6.2 2.2 4.5 1.5 'Iris-versicolor']\n",
      " [5.6 2.5 3.9 1.1 'Iris-versicolor']\n",
      " [5.9 3.2 4.8 1.8 'Iris-versicolor']\n",
      " [6.1 2.8 4.0 1.3 'Iris-versicolor']\n",
      " [6.3 2.5 4.9 1.5 'Iris-versicolor']\n",
      " [6.1 2.8 4.7 1.2 'Iris-versicolor']\n",
      " [6.4 2.9 4.3 1.3 'Iris-versicolor']\n",
      " [6.6 3.0 4.4 1.4 'Iris-versicolor']\n",
      " [6.8 2.8 4.8 1.4 'Iris-versicolor']\n",
      " [6.7 3.0 5.0 1.7 'Iris-versicolor']\n",
      " [6.0 2.9 4.5 1.5 'Iris-versicolor']\n",
      " [5.7 2.6 3.5 1.0 'Iris-versicolor']\n",
      " [5.5 2.4 3.8 1.1 'Iris-versicolor']\n",
      " [5.5 2.4 3.7 1.0 'Iris-versicolor']\n",
      " [5.8 2.7 3.9 1.2 'Iris-versicolor']\n",
      " [6.0 2.7 5.1 1.6 'Iris-versicolor']\n",
      " [5.4 3.0 4.5 1.5 'Iris-versicolor']\n",
      " [6.0 3.4 4.5 1.6 'Iris-versicolor']\n",
      " [6.7 3.1 4.7 1.5 'Iris-versicolor']\n",
      " [6.3 2.3 4.4 1.3 'Iris-versicolor']\n",
      " [5.6 3.0 4.1 1.3 'Iris-versicolor']\n",
      " [5.5 2.5 4.0 1.3 'Iris-versicolor']\n",
      " [5.5 2.6 4.4 1.2 'Iris-versicolor']\n",
      " [6.1 3.0 4.6 1.4 'Iris-versicolor']\n",
      " [5.8 2.6 4.0 1.2 'Iris-versicolor']\n",
      " [5.0 2.3 3.3 1.0 'Iris-versicolor']\n",
      " [5.6 2.7 4.2 1.3 'Iris-versicolor']\n",
      " [5.7 3.0 4.2 1.2 'Iris-versicolor']\n",
      " [5.7 2.9 4.2 1.3 'Iris-versicolor']\n",
      " [6.2 2.9 4.3 1.3 'Iris-versicolor']\n",
      " [5.1 2.5 3.0 1.1 'Iris-versicolor']\n",
      " [5.7 2.8 4.1 1.3 'Iris-versicolor']\n",
      " [6.3 3.3 6.0 2.5 'Iris-virginica']\n",
      " [5.8 2.7 5.1 1.9 'Iris-virginica']\n",
      " [7.1 3.0 5.9 2.1 'Iris-virginica']\n",
      " [6.3 2.9 5.6 1.8 'Iris-virginica']\n",
      " [6.5 3.0 5.8 2.2 'Iris-virginica']\n",
      " [7.6 3.0 6.6 2.1 'Iris-virginica']\n",
      " [4.9 2.5 4.5 1.7 'Iris-virginica']\n",
      " [7.3 2.9 6.3 1.8 'Iris-virginica']\n",
      " [6.7 2.5 5.8 1.8 'Iris-virginica']\n",
      " [7.2 3.6 6.1 2.5 'Iris-virginica']\n",
      " [6.5 3.2 5.1 2.0 'Iris-virginica']\n",
      " [6.4 2.7 5.3 1.9 'Iris-virginica']\n",
      " [6.8 3.0 5.5 2.1 'Iris-virginica']\n",
      " [5.7 2.5 5.0 2.0 'Iris-virginica']\n",
      " [5.8 2.8 5.1 2.4 'Iris-virginica']\n",
      " [6.4 3.2 5.3 2.3 'Iris-virginica']\n",
      " [6.5 3.0 5.5 1.8 'Iris-virginica']\n",
      " [7.7 3.8 6.7 2.2 'Iris-virginica']\n",
      " [7.7 2.6 6.9 2.3 'Iris-virginica']\n",
      " [6.0 2.2 5.0 1.5 'Iris-virginica']\n",
      " [6.9 3.2 5.7 2.3 'Iris-virginica']\n",
      " [5.6 2.8 4.9 2.0 'Iris-virginica']\n",
      " [7.7 2.8 6.7 2.0 'Iris-virginica']\n",
      " [6.3 2.7 4.9 1.8 'Iris-virginica']\n",
      " [6.7 3.3 5.7 2.1 'Iris-virginica']\n",
      " [7.2 3.2 6.0 1.8 'Iris-virginica']\n",
      " [6.2 2.8 4.8 1.8 'Iris-virginica']\n",
      " [6.1 3.0 4.9 1.8 'Iris-virginica']\n",
      " [6.4 2.8 5.6 2.1 'Iris-virginica']\n",
      " [7.2 3.0 5.8 1.6 'Iris-virginica']\n",
      " [7.4 2.8 6.1 1.9 'Iris-virginica']\n",
      " [7.9 3.8 6.4 2.0 'Iris-virginica']\n",
      " [6.4 2.8 5.6 2.2 'Iris-virginica']\n",
      " [6.3 2.8 5.1 1.5 'Iris-virginica']\n",
      " [6.1 2.6 5.6 1.4 'Iris-virginica']\n",
      " [7.7 3.0 6.1 2.3 'Iris-virginica']\n",
      " [6.3 3.4 5.6 2.4 'Iris-virginica']\n",
      " [6.4 3.1 5.5 1.8 'Iris-virginica']\n",
      " [6.0 3.0 4.8 1.8 'Iris-virginica']\n",
      " [6.9 3.1 5.4 2.1 'Iris-virginica']\n",
      " [6.7 3.1 5.6 2.4 'Iris-virginica']\n",
      " [6.9 3.1 5.1 2.3 'Iris-virginica']\n",
      " [5.8 2.7 5.1 1.9 'Iris-virginica']\n",
      " [6.8 3.2 5.9 2.3 'Iris-virginica']\n",
      " [6.7 3.3 5.7 2.5 'Iris-virginica']\n",
      " [6.7 3.0 5.2 2.3 'Iris-virginica']\n",
      " [6.3 2.5 5.0 1.9 'Iris-virginica']\n",
      " [6.5 3.0 5.2 2.0 'Iris-virginica']\n",
      " [6.2 3.4 5.4 2.3 'Iris-virginica']\n",
      " [5.9 3.0 5.1 1.8 'Iris-virginica']]\n"
     ]
    }
   ],
   "source": [
    "from sklearn import model_selection\n",
    "array = data.values\n",
    "X = data.iloc[:,0:4]\n",
    "Y = data.iloc[:,4]\n",
    "validation_size = 0.20\n",
    "seed = 4\n",
    "X_train, X_validation, Y_train, Y_validation = model_selection.train_test_split(X, Y, test_size=validation_size, random_state=seed)\n",
    "#Y_train\n",
    "print(array)"
   ]
  },
  {
   "cell_type": "code",
   "execution_count": 24,
   "metadata": {
    "collapsed": false,
    "scrolled": true
   },
   "outputs": [
    {
     "name": "stdout",
     "output_type": "stream",
     "text": [
      "LR: 0.966667 (0.040825)\n",
      "LDA: 0.991667 (0.025000)\n",
      "KNN: 0.975000 (0.038188)\n",
      "CART: 0.958333 (0.055902)\n",
      "NB: 0.950000 (0.055277)\n",
      "SVM: 0.983333 (0.033333)\n",
      "[array([ 0.91666667,  1.        ,  1.        ,  1.        ,  1.        ,\n",
      "        0.91666667,  1.        ,  0.91666667,  1.        ,  0.91666667]), array([ 1.        ,  1.        ,  1.        ,  1.        ,  1.        ,\n",
      "        0.91666667,  1.        ,  1.        ,  1.        ,  1.        ]), array([ 1.        ,  1.        ,  1.        ,  0.91666667,  0.91666667,\n",
      "        0.91666667,  1.        ,  1.        ,  1.        ,  1.        ]), array([ 1.        ,  1.        ,  0.83333333,  0.91666667,  1.        ,\n",
      "        0.91666667,  1.        ,  1.        ,  1.        ,  0.91666667]), array([ 1.        ,  1.        ,  0.83333333,  0.91666667,  0.91666667,\n",
      "        0.91666667,  1.        ,  1.        ,  0.91666667,  1.        ]), array([ 1.        ,  1.        ,  0.91666667,  0.91666667,  1.        ,\n",
      "        1.        ,  1.        ,  1.        ,  1.        ,  1.        ])]\n"
     ]
    }
   ],
   "source": [
    "# Load libraries\n",
    "import pandas\n",
    "from pandas.tools.plotting import scatter_matrix\n",
    "import matplotlib.pyplot as plt\n",
    "from sklearn import model_selection\n",
    "from sklearn.metrics import classification_report\n",
    "from sklearn.metrics import confusion_matrix\n",
    "from sklearn.metrics import accuracy_score\n",
    "from sklearn.linear_model import LogisticRegression\n",
    "from sklearn.tree import DecisionTreeClassifier\n",
    "from sklearn.neighbors import KNeighborsClassifier\n",
    "from sklearn.discriminant_analysis import LinearDiscriminantAnalysis\n",
    "from sklearn.naive_bayes import GaussianNB\n",
    "from sklearn.svm import SVC\n",
    "# Spot Check Algorithms\n",
    "models = []\n",
    "models.append(('LR', LogisticRegression()))\n",
    "models.append(('LDA', LinearDiscriminantAnalysis()))\n",
    "models.append(('KNN', KNeighborsClassifier()))\n",
    "models.append(('CART', DecisionTreeClassifier()))\n",
    "models.append(('NB', GaussianNB()))\n",
    "models.append(('SVM', SVC()))\n",
    "# evaluate each model in turn\n",
    "results = []\n",
    "names = []\n",
    "for name, model in models:\n",
    "\tkfold = model_selection.KFold(n_splits=10, random_state=8)\n",
    "\tcv_results = model_selection.cross_val_score(model, X_train, Y_train, cv=kfold, scoring= 'accuracy')\n",
    "\tresults.append(cv_results)\n",
    "\tnames.append(name)\n",
    "\tmsg = \"%s: %f (%f)\" % (name, cv_results.mean(), cv_results.std())\n",
    "\tprint(msg)\n",
    "\n",
    "print(results)"
   ]
  },
  {
   "cell_type": "code",
   "execution_count": 22,
   "metadata": {
    "collapsed": false
   },
   "outputs": [
    {
     "data": {
      "text/plain": [
       "0.96666666666666667"
      ]
     },
     "execution_count": 22,
     "metadata": {},
     "output_type": "execute_result"
    }
   ],
   "source": [
    "from sklearn.naive_bayes import GaussianNB\n",
    "gnb = GaussianNB()\n",
    "a = gnb.fit(X_train,Y_train)\n",
    "Y_pred = a.predict(X_validation)\n",
    "(Y_pred == Y_validation).sum()/30"
   ]
  },
  {
   "cell_type": "code",
   "execution_count": 19,
   "metadata": {
    "collapsed": false
   },
   "outputs": [
    {
     "data": {
      "text/plain": [
       "28"
      ]
     },
     "execution_count": 19,
     "metadata": {},
     "output_type": "execute_result"
    }
   ],
   "source": [
    "from sklearn.linear_model import LogisticRegression\n",
    "lr = LogisticRegression()\n",
    "f = lr.fit(X_train,Y_train)\n",
    "Y_pred = f.predict(X_validation)\n",
    "(Y_pred == Y_validation).sum()"
   ]
  },
  {
   "cell_type": "code",
   "execution_count": 22,
   "metadata": {
    "collapsed": false
   },
   "outputs": [
    {
     "data": {
      "text/plain": [
       "29"
      ]
     },
     "execution_count": 22,
     "metadata": {},
     "output_type": "execute_result"
    }
   ],
   "source": [
    "from sklearn.svm import SVC\n",
    "Y_pred = SVC().fit(X_train,Y_train).predict(X_validation)\n",
    "(Y_pred == Y_validation).sum()"
   ]
  },
  {
   "cell_type": "code",
   "execution_count": 21,
   "metadata": {
    "collapsed": false
   },
   "outputs": [
    {
     "data": {
      "text/plain": [
       "28"
      ]
     },
     "execution_count": 21,
     "metadata": {},
     "output_type": "execute_result"
    }
   ],
   "source": [
    "from sklearn.discriminant_analysis import LinearDiscriminantAnalysis\n",
    "Y_pred = LinearDiscriminantAnalysis().fit(X_train,Y_train).predict(X_validation)\n",
    "(Y_pred == Y_validation).sum()"
   ]
  },
  {
   "cell_type": "code",
   "execution_count": null,
   "metadata": {
    "collapsed": true
   },
   "outputs": [],
   "source": []
  },
  {
   "cell_type": "code",
   "execution_count": null,
   "metadata": {
    "collapsed": true
   },
   "outputs": [],
   "source": []
  }
 ],
 "metadata": {
  "kernelspec": {
   "display_name": "Python 3",
   "language": "python",
   "name": "python3"
  },
  "language_info": {
   "codemirror_mode": {
    "name": "ipython",
    "version": 3
   },
   "file_extension": ".py",
   "mimetype": "text/x-python",
   "name": "python",
   "nbconvert_exporter": "python",
   "pygments_lexer": "ipython3",
   "version": "3.6.0"
  }
 },
 "nbformat": 4,
 "nbformat_minor": 2
}
